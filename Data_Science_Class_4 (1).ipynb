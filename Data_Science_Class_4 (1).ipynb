{
  "nbformat": 4,
  "nbformat_minor": 0,
  "metadata": {
    "colab": {
      "provenance": [],
      "collapsed_sections": []
    },
    "kernelspec": {
      "name": "python3",
      "display_name": "Python 3"
    },
    "language_info": {
      "name": "python"
    }
  },
  "cells": [
    {
      "cell_type": "code",
      "source": [
        "import pandas as pd"
      ],
      "metadata": {
        "id": "VoiIhyEGmwfQ"
      },
      "execution_count": 1,
      "outputs": []
    },
    {
      "cell_type": "code",
      "source": [
        "df = pd.read_csv('API_NY.GDP.MKTP.KD.ZG_DS2_en_csv_v2_4666485.csv',skiprows=4)"
      ],
      "metadata": {
        "id": "o-kynuk5myEA"
      },
      "execution_count": 14,
      "outputs": []
    },
    {
      "cell_type": "code",
      "source": [
        "df.head(1)"
      ],
      "metadata": {
        "colab": {
          "base_uri": "https://localhost:8080/",
          "height": 226
        },
        "id": "ol5HFunPnBOT",
        "outputId": "f387bf12-92a5-4ff3-c883-a181e1f6fef6"
      },
      "execution_count": 8,
      "outputs": [
        {
          "output_type": "execute_result",
          "data": {
            "text/plain": [
              "  Country Name Country Code         Indicator Name     Indicator Code  1960  \\\n",
              "0        Aruba          ABW  GDP growth (annual %)  NY.GDP.MKTP.KD.ZG   NaN   \n",
              "\n",
              "   1961  1962  1963  1964  1965  ...      2013      2014     2015      2016  \\\n",
              "0   NaN   NaN   NaN   NaN   NaN  ...  6.429817 -0.020479  3.54363  2.116716   \n",
              "\n",
              "       2017      2018    2019       2020  2021  Unnamed: 66  \n",
              "0  5.482371  1.267218 -2.0856 -22.318948   NaN          NaN  \n",
              "\n",
              "[1 rows x 67 columns]"
            ],
            "text/html": [
              "\n",
              "  <div id=\"df-324c3db4-9454-440a-bcd5-1c8f2ec4aaab\">\n",
              "    <div class=\"colab-df-container\">\n",
              "      <div>\n",
              "<style scoped>\n",
              "    .dataframe tbody tr th:only-of-type {\n",
              "        vertical-align: middle;\n",
              "    }\n",
              "\n",
              "    .dataframe tbody tr th {\n",
              "        vertical-align: top;\n",
              "    }\n",
              "\n",
              "    .dataframe thead th {\n",
              "        text-align: right;\n",
              "    }\n",
              "</style>\n",
              "<table border=\"1\" class=\"dataframe\">\n",
              "  <thead>\n",
              "    <tr style=\"text-align: right;\">\n",
              "      <th></th>\n",
              "      <th>Country Name</th>\n",
              "      <th>Country Code</th>\n",
              "      <th>Indicator Name</th>\n",
              "      <th>Indicator Code</th>\n",
              "      <th>1960</th>\n",
              "      <th>1961</th>\n",
              "      <th>1962</th>\n",
              "      <th>1963</th>\n",
              "      <th>1964</th>\n",
              "      <th>1965</th>\n",
              "      <th>...</th>\n",
              "      <th>2013</th>\n",
              "      <th>2014</th>\n",
              "      <th>2015</th>\n",
              "      <th>2016</th>\n",
              "      <th>2017</th>\n",
              "      <th>2018</th>\n",
              "      <th>2019</th>\n",
              "      <th>2020</th>\n",
              "      <th>2021</th>\n",
              "      <th>Unnamed: 66</th>\n",
              "    </tr>\n",
              "  </thead>\n",
              "  <tbody>\n",
              "    <tr>\n",
              "      <th>0</th>\n",
              "      <td>Aruba</td>\n",
              "      <td>ABW</td>\n",
              "      <td>GDP growth (annual %)</td>\n",
              "      <td>NY.GDP.MKTP.KD.ZG</td>\n",
              "      <td>NaN</td>\n",
              "      <td>NaN</td>\n",
              "      <td>NaN</td>\n",
              "      <td>NaN</td>\n",
              "      <td>NaN</td>\n",
              "      <td>NaN</td>\n",
              "      <td>...</td>\n",
              "      <td>6.429817</td>\n",
              "      <td>-0.020479</td>\n",
              "      <td>3.54363</td>\n",
              "      <td>2.116716</td>\n",
              "      <td>5.482371</td>\n",
              "      <td>1.267218</td>\n",
              "      <td>-2.0856</td>\n",
              "      <td>-22.318948</td>\n",
              "      <td>NaN</td>\n",
              "      <td>NaN</td>\n",
              "    </tr>\n",
              "  </tbody>\n",
              "</table>\n",
              "<p>1 rows × 67 columns</p>\n",
              "</div>\n",
              "      <button class=\"colab-df-convert\" onclick=\"convertToInteractive('df-324c3db4-9454-440a-bcd5-1c8f2ec4aaab')\"\n",
              "              title=\"Convert this dataframe to an interactive table.\"\n",
              "              style=\"display:none;\">\n",
              "        \n",
              "  <svg xmlns=\"http://www.w3.org/2000/svg\" height=\"24px\"viewBox=\"0 0 24 24\"\n",
              "       width=\"24px\">\n",
              "    <path d=\"M0 0h24v24H0V0z\" fill=\"none\"/>\n",
              "    <path d=\"M18.56 5.44l.94 2.06.94-2.06 2.06-.94-2.06-.94-.94-2.06-.94 2.06-2.06.94zm-11 1L8.5 8.5l.94-2.06 2.06-.94-2.06-.94L8.5 2.5l-.94 2.06-2.06.94zm10 10l.94 2.06.94-2.06 2.06-.94-2.06-.94-.94-2.06-.94 2.06-2.06.94z\"/><path d=\"M17.41 7.96l-1.37-1.37c-.4-.4-.92-.59-1.43-.59-.52 0-1.04.2-1.43.59L10.3 9.45l-7.72 7.72c-.78.78-.78 2.05 0 2.83L4 21.41c.39.39.9.59 1.41.59.51 0 1.02-.2 1.41-.59l7.78-7.78 2.81-2.81c.8-.78.8-2.07 0-2.86zM5.41 20L4 18.59l7.72-7.72 1.47 1.35L5.41 20z\"/>\n",
              "  </svg>\n",
              "      </button>\n",
              "      \n",
              "  <style>\n",
              "    .colab-df-container {\n",
              "      display:flex;\n",
              "      flex-wrap:wrap;\n",
              "      gap: 12px;\n",
              "    }\n",
              "\n",
              "    .colab-df-convert {\n",
              "      background-color: #E8F0FE;\n",
              "      border: none;\n",
              "      border-radius: 50%;\n",
              "      cursor: pointer;\n",
              "      display: none;\n",
              "      fill: #1967D2;\n",
              "      height: 32px;\n",
              "      padding: 0 0 0 0;\n",
              "      width: 32px;\n",
              "    }\n",
              "\n",
              "    .colab-df-convert:hover {\n",
              "      background-color: #E2EBFA;\n",
              "      box-shadow: 0px 1px 2px rgba(60, 64, 67, 0.3), 0px 1px 3px 1px rgba(60, 64, 67, 0.15);\n",
              "      fill: #174EA6;\n",
              "    }\n",
              "\n",
              "    [theme=dark] .colab-df-convert {\n",
              "      background-color: #3B4455;\n",
              "      fill: #D2E3FC;\n",
              "    }\n",
              "\n",
              "    [theme=dark] .colab-df-convert:hover {\n",
              "      background-color: #434B5C;\n",
              "      box-shadow: 0px 1px 3px 1px rgba(0, 0, 0, 0.15);\n",
              "      filter: drop-shadow(0px 1px 2px rgba(0, 0, 0, 0.3));\n",
              "      fill: #FFFFFF;\n",
              "    }\n",
              "  </style>\n",
              "\n",
              "      <script>\n",
              "        const buttonEl =\n",
              "          document.querySelector('#df-324c3db4-9454-440a-bcd5-1c8f2ec4aaab button.colab-df-convert');\n",
              "        buttonEl.style.display =\n",
              "          google.colab.kernel.accessAllowed ? 'block' : 'none';\n",
              "\n",
              "        async function convertToInteractive(key) {\n",
              "          const element = document.querySelector('#df-324c3db4-9454-440a-bcd5-1c8f2ec4aaab');\n",
              "          const dataTable =\n",
              "            await google.colab.kernel.invokeFunction('convertToInteractive',\n",
              "                                                     [key], {});\n",
              "          if (!dataTable) return;\n",
              "\n",
              "          const docLinkHtml = 'Like what you see? Visit the ' +\n",
              "            '<a target=\"_blank\" href=https://colab.research.google.com/notebooks/data_table.ipynb>data table notebook</a>'\n",
              "            + ' to learn more about interactive tables.';\n",
              "          element.innerHTML = '';\n",
              "          dataTable['output_type'] = 'display_data';\n",
              "          await google.colab.output.renderOutput(dataTable, element);\n",
              "          const docLink = document.createElement('div');\n",
              "          docLink.innerHTML = docLinkHtml;\n",
              "          element.appendChild(docLink);\n",
              "        }\n",
              "      </script>\n",
              "    </div>\n",
              "  </div>\n",
              "  "
            ]
          },
          "metadata": {},
          "execution_count": 8
        }
      ]
    },
    {
      "cell_type": "code",
      "source": [
        "df2 = df.drop(['Indicator Name','Indicator Code'],axis=1)"
      ],
      "metadata": {
        "id": "cU-WAho7nhJ6"
      },
      "execution_count": 15,
      "outputs": []
    },
    {
      "cell_type": "code",
      "source": [
        "df3 = df2.set_index(['Country Code','Country Name']).stack().reset_index()"
      ],
      "metadata": {
        "id": "TRzXDgq7n8dI"
      },
      "execution_count": 28,
      "outputs": []
    },
    {
      "cell_type": "code",
      "source": [
        "df3.columns"
      ],
      "metadata": {
        "colab": {
          "base_uri": "https://localhost:8080/"
        },
        "id": "ZAUxhmp1pO5f",
        "outputId": "60d69617-0078-423a-cad0-6d87b38b7094"
      },
      "execution_count": 39,
      "outputs": [
        {
          "output_type": "execute_result",
          "data": {
            "text/plain": [
              "Index(['Country Code', 'Country Name', 'level_2', 0], dtype='object')"
            ]
          },
          "metadata": {},
          "execution_count": 39
        }
      ]
    },
    {
      "cell_type": "code",
      "source": [
        "df4 = df3.rename(columns={'level_2':'Year', 0:'GDP growth (annual %)'})"
      ],
      "metadata": {
        "id": "O24BU8-3pWcK"
      },
      "execution_count": 32,
      "outputs": []
    },
    {
      "cell_type": "code",
      "source": [
        "df4.set_index('Country Code').to_csv('mycsv.csv')"
      ],
      "metadata": {
        "id": "D7H78KgypnTT"
      },
      "execution_count": 36,
      "outputs": []
    },
    {
      "cell_type": "code",
      "source": [
        "# df3.set_index(['level_2','Country Code','Country Name']).unstack(['Country Code','Country Name'])"
      ],
      "metadata": {
        "id": "L2SIf-s2riro"
      },
      "execution_count": 60,
      "outputs": []
    },
    {
      "cell_type": "markdown",
      "source": [
        "### https://ratings.fide.com/top_lists.phtml"
      ],
      "metadata": {
        "id": "psX5OXxetk_r"
      }
    },
    {
      "cell_type": "code",
      "source": [
        "table_list=pd.read_html('chess_table.html')\n",
        "wiki_list=pd.read_html('https://en.wikipedia.org/wiki/List_of_countries_by_GDP_(nominal)_per_capita')"
      ],
      "metadata": {
        "id": "ojYTbJhdtmXN"
      },
      "execution_count": 75,
      "outputs": []
    },
    {
      "cell_type": "code",
      "source": [
        "len(table_list),len(wiki_list)"
      ],
      "metadata": {
        "colab": {
          "base_uri": "https://localhost:8080/"
        },
        "id": "tjR-tjCMtwKe",
        "outputId": "6182933d-be77-400c-cf86-67f400b53738"
      },
      "execution_count": 77,
      "outputs": [
        {
          "output_type": "execute_result",
          "data": {
            "text/plain": [
              "(1, 6)"
            ]
          },
          "metadata": {},
          "execution_count": 77
        }
      ]
    },
    {
      "cell_type": "code",
      "source": [
        "s='2862 (1)'"
      ],
      "metadata": {
        "id": "gEMm44uCwqvQ"
      },
      "execution_count": 88,
      "outputs": []
    },
    {
      "cell_type": "code",
      "source": [
        "s.split(' ')[1].replace('(','').replace(')','') #STRING function"
      ],
      "metadata": {
        "colab": {
          "base_uri": "https://localhost:8080/",
          "height": 35
        },
        "id": "f4yoCdB7wtjx",
        "outputId": "e341e53b-d00d-4f24-c2fb-eac022560696"
      },
      "execution_count": 115,
      "outputs": [
        {
          "output_type": "execute_result",
          "data": {
            "text/plain": [
              "'1'"
            ],
            "application/vnd.google.colaboratory.intrinsic+json": {
              "type": "string"
            }
          },
          "metadata": {},
          "execution_count": 115
        }
      ]
    },
    {
      "cell_type": "code",
      "source": [
        "chess_df = table_list[0]"
      ],
      "metadata": {
        "id": "yZrtgB65xaOP"
      },
      "execution_count": 104,
      "outputs": []
    },
    {
      "cell_type": "code",
      "source": [
        "chess_df['Rating last year']  = chess_df['Avg12M'].str.split(' ').str[0].astype(float)"
      ],
      "metadata": {
        "id": "Y4O8DyWBvalY"
      },
      "execution_count": 107,
      "outputs": []
    },
    {
      "cell_type": "code",
      "source": [
        "chess_df['Ranking last year']  = chess_df['Avg12M'].str.split(' ').str[1].str.replace('(','').str.replace(')','')"
      ],
      "metadata": {
        "colab": {
          "base_uri": "https://localhost:8080/"
        },
        "id": "FGcBv7PCxjQy",
        "outputId": "be94609e-cc5b-4443-f9c0-443820d93a4f"
      },
      "execution_count": 116,
      "outputs": [
        {
          "output_type": "stream",
          "name": "stderr",
          "text": [
            "/usr/local/lib/python3.7/dist-packages/ipykernel_launcher.py:1: FutureWarning: The default value of regex will change from True to False in a future version. In addition, single character regular expressions will *not* be treated as literal strings when regex=True.\n",
            "  \"\"\"Entry point for launching an IPython kernel.\n"
          ]
        }
      ]
    },
    {
      "cell_type": "code",
      "source": [
        "chess_df"
      ],
      "metadata": {
        "colab": {
          "base_uri": "https://localhost:8080/",
          "height": 468
        },
        "id": "9zUQ2nslyGEh",
        "outputId": "75242977-1c9c-4825-b9ce-f9ef57cc4f07"
      },
      "execution_count": 117,
      "outputs": [
        {
          "output_type": "execute_result",
          "data": {
            "text/plain": [
              "       #                  Name  Fed  Rating  +-  B-Year      Avg12M  \\\n",
              "0      1       Carlsen, Magnus  NOR    2856 NaN    1990    2862 (1)   \n",
              "1      2           Ding, Liren  CHN    2811 NaN    1992    2803 (2)   \n",
              "2      3   Nepomniachtchi, Ian  RUS    2793 NaN    1990    2778 (5)   \n",
              "3      4     Firouzja, Alireza  FRA    2785 NaN    2003    2793 (3)   \n",
              "4      5            So, Wesley  USA    2774 NaN    1993    2773 (7)   \n",
              "..   ...                   ...  ...     ...  ..     ...         ...   \n",
              "97    98    Bluebaum, Matthias  GER    2647 NaN    1997   2652 (91)   \n",
              "98    99       Bacrot, Etienne  FRA    2646 NaN    1983  2644 (105)   \n",
              "99   100  Donchenko, Alexander  GER    2646 NaN    1998  2630 (130)   \n",
              "100  101         Abasov, Nijat  AZE    2646 NaN    1995  2635 (120)   \n",
              "101  102         Mamedov, Rauf  AZE    2646 NaN    1988   2656 (86)   \n",
              "\n",
              "    Ranking last year  Rating last year  \n",
              "0                   1            2862.0  \n",
              "1                   2            2803.0  \n",
              "2                   5            2778.0  \n",
              "3                   3            2793.0  \n",
              "4                   7            2773.0  \n",
              "..                ...               ...  \n",
              "97                 91            2652.0  \n",
              "98                105            2644.0  \n",
              "99                130            2630.0  \n",
              "100               120            2635.0  \n",
              "101                86            2656.0  \n",
              "\n",
              "[102 rows x 9 columns]"
            ],
            "text/html": [
              "\n",
              "  <div id=\"df-412c3dee-f72a-4b1e-9300-00fa1bae7dac\">\n",
              "    <div class=\"colab-df-container\">\n",
              "      <div>\n",
              "<style scoped>\n",
              "    .dataframe tbody tr th:only-of-type {\n",
              "        vertical-align: middle;\n",
              "    }\n",
              "\n",
              "    .dataframe tbody tr th {\n",
              "        vertical-align: top;\n",
              "    }\n",
              "\n",
              "    .dataframe thead th {\n",
              "        text-align: right;\n",
              "    }\n",
              "</style>\n",
              "<table border=\"1\" class=\"dataframe\">\n",
              "  <thead>\n",
              "    <tr style=\"text-align: right;\">\n",
              "      <th></th>\n",
              "      <th>#</th>\n",
              "      <th>Name</th>\n",
              "      <th>Fed</th>\n",
              "      <th>Rating</th>\n",
              "      <th>+-</th>\n",
              "      <th>B-Year</th>\n",
              "      <th>Avg12M</th>\n",
              "      <th>Ranking last year</th>\n",
              "      <th>Rating last year</th>\n",
              "    </tr>\n",
              "  </thead>\n",
              "  <tbody>\n",
              "    <tr>\n",
              "      <th>0</th>\n",
              "      <td>1</td>\n",
              "      <td>Carlsen, Magnus</td>\n",
              "      <td>NOR</td>\n",
              "      <td>2856</td>\n",
              "      <td>NaN</td>\n",
              "      <td>1990</td>\n",
              "      <td>2862 (1)</td>\n",
              "      <td>1</td>\n",
              "      <td>2862.0</td>\n",
              "    </tr>\n",
              "    <tr>\n",
              "      <th>1</th>\n",
              "      <td>2</td>\n",
              "      <td>Ding, Liren</td>\n",
              "      <td>CHN</td>\n",
              "      <td>2811</td>\n",
              "      <td>NaN</td>\n",
              "      <td>1992</td>\n",
              "      <td>2803 (2)</td>\n",
              "      <td>2</td>\n",
              "      <td>2803.0</td>\n",
              "    </tr>\n",
              "    <tr>\n",
              "      <th>2</th>\n",
              "      <td>3</td>\n",
              "      <td>Nepomniachtchi, Ian</td>\n",
              "      <td>RUS</td>\n",
              "      <td>2793</td>\n",
              "      <td>NaN</td>\n",
              "      <td>1990</td>\n",
              "      <td>2778 (5)</td>\n",
              "      <td>5</td>\n",
              "      <td>2778.0</td>\n",
              "    </tr>\n",
              "    <tr>\n",
              "      <th>3</th>\n",
              "      <td>4</td>\n",
              "      <td>Firouzja, Alireza</td>\n",
              "      <td>FRA</td>\n",
              "      <td>2785</td>\n",
              "      <td>NaN</td>\n",
              "      <td>2003</td>\n",
              "      <td>2793 (3)</td>\n",
              "      <td>3</td>\n",
              "      <td>2793.0</td>\n",
              "    </tr>\n",
              "    <tr>\n",
              "      <th>4</th>\n",
              "      <td>5</td>\n",
              "      <td>So, Wesley</td>\n",
              "      <td>USA</td>\n",
              "      <td>2774</td>\n",
              "      <td>NaN</td>\n",
              "      <td>1993</td>\n",
              "      <td>2773 (7)</td>\n",
              "      <td>7</td>\n",
              "      <td>2773.0</td>\n",
              "    </tr>\n",
              "    <tr>\n",
              "      <th>...</th>\n",
              "      <td>...</td>\n",
              "      <td>...</td>\n",
              "      <td>...</td>\n",
              "      <td>...</td>\n",
              "      <td>...</td>\n",
              "      <td>...</td>\n",
              "      <td>...</td>\n",
              "      <td>...</td>\n",
              "      <td>...</td>\n",
              "    </tr>\n",
              "    <tr>\n",
              "      <th>97</th>\n",
              "      <td>98</td>\n",
              "      <td>Bluebaum, Matthias</td>\n",
              "      <td>GER</td>\n",
              "      <td>2647</td>\n",
              "      <td>NaN</td>\n",
              "      <td>1997</td>\n",
              "      <td>2652 (91)</td>\n",
              "      <td>91</td>\n",
              "      <td>2652.0</td>\n",
              "    </tr>\n",
              "    <tr>\n",
              "      <th>98</th>\n",
              "      <td>99</td>\n",
              "      <td>Bacrot, Etienne</td>\n",
              "      <td>FRA</td>\n",
              "      <td>2646</td>\n",
              "      <td>NaN</td>\n",
              "      <td>1983</td>\n",
              "      <td>2644 (105)</td>\n",
              "      <td>105</td>\n",
              "      <td>2644.0</td>\n",
              "    </tr>\n",
              "    <tr>\n",
              "      <th>99</th>\n",
              "      <td>100</td>\n",
              "      <td>Donchenko, Alexander</td>\n",
              "      <td>GER</td>\n",
              "      <td>2646</td>\n",
              "      <td>NaN</td>\n",
              "      <td>1998</td>\n",
              "      <td>2630 (130)</td>\n",
              "      <td>130</td>\n",
              "      <td>2630.0</td>\n",
              "    </tr>\n",
              "    <tr>\n",
              "      <th>100</th>\n",
              "      <td>101</td>\n",
              "      <td>Abasov, Nijat</td>\n",
              "      <td>AZE</td>\n",
              "      <td>2646</td>\n",
              "      <td>NaN</td>\n",
              "      <td>1995</td>\n",
              "      <td>2635 (120)</td>\n",
              "      <td>120</td>\n",
              "      <td>2635.0</td>\n",
              "    </tr>\n",
              "    <tr>\n",
              "      <th>101</th>\n",
              "      <td>102</td>\n",
              "      <td>Mamedov, Rauf</td>\n",
              "      <td>AZE</td>\n",
              "      <td>2646</td>\n",
              "      <td>NaN</td>\n",
              "      <td>1988</td>\n",
              "      <td>2656 (86)</td>\n",
              "      <td>86</td>\n",
              "      <td>2656.0</td>\n",
              "    </tr>\n",
              "  </tbody>\n",
              "</table>\n",
              "<p>102 rows × 9 columns</p>\n",
              "</div>\n",
              "      <button class=\"colab-df-convert\" onclick=\"convertToInteractive('df-412c3dee-f72a-4b1e-9300-00fa1bae7dac')\"\n",
              "              title=\"Convert this dataframe to an interactive table.\"\n",
              "              style=\"display:none;\">\n",
              "        \n",
              "  <svg xmlns=\"http://www.w3.org/2000/svg\" height=\"24px\"viewBox=\"0 0 24 24\"\n",
              "       width=\"24px\">\n",
              "    <path d=\"M0 0h24v24H0V0z\" fill=\"none\"/>\n",
              "    <path d=\"M18.56 5.44l.94 2.06.94-2.06 2.06-.94-2.06-.94-.94-2.06-.94 2.06-2.06.94zm-11 1L8.5 8.5l.94-2.06 2.06-.94-2.06-.94L8.5 2.5l-.94 2.06-2.06.94zm10 10l.94 2.06.94-2.06 2.06-.94-2.06-.94-.94-2.06-.94 2.06-2.06.94z\"/><path d=\"M17.41 7.96l-1.37-1.37c-.4-.4-.92-.59-1.43-.59-.52 0-1.04.2-1.43.59L10.3 9.45l-7.72 7.72c-.78.78-.78 2.05 0 2.83L4 21.41c.39.39.9.59 1.41.59.51 0 1.02-.2 1.41-.59l7.78-7.78 2.81-2.81c.8-.78.8-2.07 0-2.86zM5.41 20L4 18.59l7.72-7.72 1.47 1.35L5.41 20z\"/>\n",
              "  </svg>\n",
              "      </button>\n",
              "      \n",
              "  <style>\n",
              "    .colab-df-container {\n",
              "      display:flex;\n",
              "      flex-wrap:wrap;\n",
              "      gap: 12px;\n",
              "    }\n",
              "\n",
              "    .colab-df-convert {\n",
              "      background-color: #E8F0FE;\n",
              "      border: none;\n",
              "      border-radius: 50%;\n",
              "      cursor: pointer;\n",
              "      display: none;\n",
              "      fill: #1967D2;\n",
              "      height: 32px;\n",
              "      padding: 0 0 0 0;\n",
              "      width: 32px;\n",
              "    }\n",
              "\n",
              "    .colab-df-convert:hover {\n",
              "      background-color: #E2EBFA;\n",
              "      box-shadow: 0px 1px 2px rgba(60, 64, 67, 0.3), 0px 1px 3px 1px rgba(60, 64, 67, 0.15);\n",
              "      fill: #174EA6;\n",
              "    }\n",
              "\n",
              "    [theme=dark] .colab-df-convert {\n",
              "      background-color: #3B4455;\n",
              "      fill: #D2E3FC;\n",
              "    }\n",
              "\n",
              "    [theme=dark] .colab-df-convert:hover {\n",
              "      background-color: #434B5C;\n",
              "      box-shadow: 0px 1px 3px 1px rgba(0, 0, 0, 0.15);\n",
              "      filter: drop-shadow(0px 1px 2px rgba(0, 0, 0, 0.3));\n",
              "      fill: #FFFFFF;\n",
              "    }\n",
              "  </style>\n",
              "\n",
              "      <script>\n",
              "        const buttonEl =\n",
              "          document.querySelector('#df-412c3dee-f72a-4b1e-9300-00fa1bae7dac button.colab-df-convert');\n",
              "        buttonEl.style.display =\n",
              "          google.colab.kernel.accessAllowed ? 'block' : 'none';\n",
              "\n",
              "        async function convertToInteractive(key) {\n",
              "          const element = document.querySelector('#df-412c3dee-f72a-4b1e-9300-00fa1bae7dac');\n",
              "          const dataTable =\n",
              "            await google.colab.kernel.invokeFunction('convertToInteractive',\n",
              "                                                     [key], {});\n",
              "          if (!dataTable) return;\n",
              "\n",
              "          const docLinkHtml = 'Like what you see? Visit the ' +\n",
              "            '<a target=\"_blank\" href=https://colab.research.google.com/notebooks/data_table.ipynb>data table notebook</a>'\n",
              "            + ' to learn more about interactive tables.';\n",
              "          element.innerHTML = '';\n",
              "          dataTable['output_type'] = 'display_data';\n",
              "          await google.colab.output.renderOutput(dataTable, element);\n",
              "          const docLink = document.createElement('div');\n",
              "          docLink.innerHTML = docLinkHtml;\n",
              "          element.appendChild(docLink);\n",
              "        }\n",
              "      </script>\n",
              "    </div>\n",
              "  </div>\n",
              "  "
            ]
          },
          "metadata": {},
          "execution_count": 117
        }
      ]
    }
  ]
}
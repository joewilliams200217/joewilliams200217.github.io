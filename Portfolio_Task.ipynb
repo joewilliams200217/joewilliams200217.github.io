{
  "nbformat": 4,
  "nbformat_minor": 0,
  "metadata": {
    "colab": {
      "provenance": []
    },
    "kernelspec": {
      "name": "python3",
      "display_name": "Python 3"
    },
    "language_info": {
      "name": "python"
    }
  },
  "cells": [
    {
      "cell_type": "markdown",
      "source": [
        "### Code for Regression "
      ],
      "metadata": {
        "id": "AXP-XTV5i9DG"
      }
    },
    {
      "cell_type": "code",
      "source": [
        "import pandas as pd\n",
        "import numpy as np\n",
        "from sklearn import linear_model\n",
        "from sklearn.linear_model import LinearRegression"
      ],
      "metadata": {
        "id": "QjM_hqEdXdS7"
      },
      "execution_count": null,
      "outputs": []
    },
    {
      "cell_type": "code",
      "source": [
        "# Import dataset\n",
        "df = pd.read_csv(\"Football.csv\")"
      ],
      "metadata": {
        "id": "SICkgUpCXdQX"
      },
      "execution_count": null,
      "outputs": []
    },
    {
      "cell_type": "code",
      "source": [],
      "metadata": {
        "id": "1VliOezdP22K"
      },
      "execution_count": null,
      "outputs": []
    },
    {
      "cell_type": "code",
      "source": [
        "df"
      ],
      "metadata": {
        "colab": {
          "base_uri": "https://localhost:8080/",
          "height": 731
        },
        "id": "TJiErv1WeIdg",
        "outputId": "c961b682-8a09-4cbd-fe60-f4f2fcda3c3c"
      },
      "execution_count": null,
      "outputs": [
        {
          "output_type": "execute_result",
          "data": {
            "text/plain": [
              "          Country      League   Club       Player Names  Matches_Played  \\\n",
              "0           Spain     La Liga  (BET)    Juanmi Callejon              19   \n",
              "1           Spain     La Liga  (BAR)  Antoine Griezmann              36   \n",
              "2           Spain     La Liga  (ATL)        Luis Suarez              34   \n",
              "3           Spain     La Liga  (CAR)       Ruben Castro              32   \n",
              "4           Spain     La Liga  (VAL)      Kevin Gameiro              21   \n",
              "..            ...         ...    ...                ...             ...   \n",
              "655   Netherlands  Eredivisie  (UTR)        Gyrano Kerk              24   \n",
              "656   Netherlands  Eredivisie  (AJA)      Quincy Promes              18   \n",
              "657   Netherlands  Eredivisie  (PSV)    Denzel Dumfries              25   \n",
              "658   Netherlands  Eredivisie   None    Cyriel Dessers               26   \n",
              "659   Netherlands  Eredivisie  (PSV)         Cody Gakpo              14   \n",
              "\n",
              "     Substitution   Mins  Goals     xG  xG Per Avg Match  Shots  OnTarget  \\\n",
              "0               16  1849     11   6.62              0.34     48        20   \n",
              "1                0  3129     16  11.86              0.36     88        41   \n",
              "2                1  2940     28  23.21              0.75    120        57   \n",
              "3                3  2842     13  14.06              0.47    117        42   \n",
              "4               10  1745     13  10.65              0.58     50        23   \n",
              "..             ...   ...    ...    ...               ...    ...       ...   \n",
              "655              0  2155     10   7.49              0.33     50        18   \n",
              "656              2  1573     12   9.77              0.59     56        30   \n",
              "657              0  2363      7   5.72              0.23     45        14   \n",
              "658              0  2461     15  14.51              0.56     84        43   \n",
              "659             11  1557      7   4.43              0.27     38        15   \n",
              "\n",
              "     Shots Per Avg Match  On Target Per Avg Match  Year  \n",
              "0                   2.47                     1.03  2016  \n",
              "1                   2.67                     1.24  2016  \n",
              "2                   3.88                     1.84  2016  \n",
              "3                   3.91                     1.40  2016  \n",
              "4                   2.72                     1.25  2016  \n",
              "..                   ...                      ...   ...  \n",
              "655                 2.20                     0.79  2020  \n",
              "656                 3.38                     1.81  2020  \n",
              "657                 1.81                     0.56  2020  \n",
              "658                 3.24                     1.66  2020  \n",
              "659                 2.32                     0.92  2020  \n",
              "\n",
              "[660 rows x 15 columns]"
            ],
            "text/html": [
              "\n",
              "  <div id=\"df-13de40b1-10d4-4e30-a4c9-a8af72cde261\">\n",
              "    <div class=\"colab-df-container\">\n",
              "      <div>\n",
              "<style scoped>\n",
              "    .dataframe tbody tr th:only-of-type {\n",
              "        vertical-align: middle;\n",
              "    }\n",
              "\n",
              "    .dataframe tbody tr th {\n",
              "        vertical-align: top;\n",
              "    }\n",
              "\n",
              "    .dataframe thead th {\n",
              "        text-align: right;\n",
              "    }\n",
              "</style>\n",
              "<table border=\"1\" class=\"dataframe\">\n",
              "  <thead>\n",
              "    <tr style=\"text-align: right;\">\n",
              "      <th></th>\n",
              "      <th>Country</th>\n",
              "      <th>League</th>\n",
              "      <th>Club</th>\n",
              "      <th>Player Names</th>\n",
              "      <th>Matches_Played</th>\n",
              "      <th>Substitution</th>\n",
              "      <th>Mins</th>\n",
              "      <th>Goals</th>\n",
              "      <th>xG</th>\n",
              "      <th>xG Per Avg Match</th>\n",
              "      <th>Shots</th>\n",
              "      <th>OnTarget</th>\n",
              "      <th>Shots Per Avg Match</th>\n",
              "      <th>On Target Per Avg Match</th>\n",
              "      <th>Year</th>\n",
              "    </tr>\n",
              "  </thead>\n",
              "  <tbody>\n",
              "    <tr>\n",
              "      <th>0</th>\n",
              "      <td>Spain</td>\n",
              "      <td>La Liga</td>\n",
              "      <td>(BET)</td>\n",
              "      <td>Juanmi Callejon</td>\n",
              "      <td>19</td>\n",
              "      <td>16</td>\n",
              "      <td>1849</td>\n",
              "      <td>11</td>\n",
              "      <td>6.62</td>\n",
              "      <td>0.34</td>\n",
              "      <td>48</td>\n",
              "      <td>20</td>\n",
              "      <td>2.47</td>\n",
              "      <td>1.03</td>\n",
              "      <td>2016</td>\n",
              "    </tr>\n",
              "    <tr>\n",
              "      <th>1</th>\n",
              "      <td>Spain</td>\n",
              "      <td>La Liga</td>\n",
              "      <td>(BAR)</td>\n",
              "      <td>Antoine Griezmann</td>\n",
              "      <td>36</td>\n",
              "      <td>0</td>\n",
              "      <td>3129</td>\n",
              "      <td>16</td>\n",
              "      <td>11.86</td>\n",
              "      <td>0.36</td>\n",
              "      <td>88</td>\n",
              "      <td>41</td>\n",
              "      <td>2.67</td>\n",
              "      <td>1.24</td>\n",
              "      <td>2016</td>\n",
              "    </tr>\n",
              "    <tr>\n",
              "      <th>2</th>\n",
              "      <td>Spain</td>\n",
              "      <td>La Liga</td>\n",
              "      <td>(ATL)</td>\n",
              "      <td>Luis Suarez</td>\n",
              "      <td>34</td>\n",
              "      <td>1</td>\n",
              "      <td>2940</td>\n",
              "      <td>28</td>\n",
              "      <td>23.21</td>\n",
              "      <td>0.75</td>\n",
              "      <td>120</td>\n",
              "      <td>57</td>\n",
              "      <td>3.88</td>\n",
              "      <td>1.84</td>\n",
              "      <td>2016</td>\n",
              "    </tr>\n",
              "    <tr>\n",
              "      <th>3</th>\n",
              "      <td>Spain</td>\n",
              "      <td>La Liga</td>\n",
              "      <td>(CAR)</td>\n",
              "      <td>Ruben Castro</td>\n",
              "      <td>32</td>\n",
              "      <td>3</td>\n",
              "      <td>2842</td>\n",
              "      <td>13</td>\n",
              "      <td>14.06</td>\n",
              "      <td>0.47</td>\n",
              "      <td>117</td>\n",
              "      <td>42</td>\n",
              "      <td>3.91</td>\n",
              "      <td>1.40</td>\n",
              "      <td>2016</td>\n",
              "    </tr>\n",
              "    <tr>\n",
              "      <th>4</th>\n",
              "      <td>Spain</td>\n",
              "      <td>La Liga</td>\n",
              "      <td>(VAL)</td>\n",
              "      <td>Kevin Gameiro</td>\n",
              "      <td>21</td>\n",
              "      <td>10</td>\n",
              "      <td>1745</td>\n",
              "      <td>13</td>\n",
              "      <td>10.65</td>\n",
              "      <td>0.58</td>\n",
              "      <td>50</td>\n",
              "      <td>23</td>\n",
              "      <td>2.72</td>\n",
              "      <td>1.25</td>\n",
              "      <td>2016</td>\n",
              "    </tr>\n",
              "    <tr>\n",
              "      <th>...</th>\n",
              "      <td>...</td>\n",
              "      <td>...</td>\n",
              "      <td>...</td>\n",
              "      <td>...</td>\n",
              "      <td>...</td>\n",
              "      <td>...</td>\n",
              "      <td>...</td>\n",
              "      <td>...</td>\n",
              "      <td>...</td>\n",
              "      <td>...</td>\n",
              "      <td>...</td>\n",
              "      <td>...</td>\n",
              "      <td>...</td>\n",
              "      <td>...</td>\n",
              "      <td>...</td>\n",
              "    </tr>\n",
              "    <tr>\n",
              "      <th>655</th>\n",
              "      <td>Netherlands</td>\n",
              "      <td>Eredivisie</td>\n",
              "      <td>(UTR)</td>\n",
              "      <td>Gyrano Kerk</td>\n",
              "      <td>24</td>\n",
              "      <td>0</td>\n",
              "      <td>2155</td>\n",
              "      <td>10</td>\n",
              "      <td>7.49</td>\n",
              "      <td>0.33</td>\n",
              "      <td>50</td>\n",
              "      <td>18</td>\n",
              "      <td>2.20</td>\n",
              "      <td>0.79</td>\n",
              "      <td>2020</td>\n",
              "    </tr>\n",
              "    <tr>\n",
              "      <th>656</th>\n",
              "      <td>Netherlands</td>\n",
              "      <td>Eredivisie</td>\n",
              "      <td>(AJA)</td>\n",
              "      <td>Quincy Promes</td>\n",
              "      <td>18</td>\n",
              "      <td>2</td>\n",
              "      <td>1573</td>\n",
              "      <td>12</td>\n",
              "      <td>9.77</td>\n",
              "      <td>0.59</td>\n",
              "      <td>56</td>\n",
              "      <td>30</td>\n",
              "      <td>3.38</td>\n",
              "      <td>1.81</td>\n",
              "      <td>2020</td>\n",
              "    </tr>\n",
              "    <tr>\n",
              "      <th>657</th>\n",
              "      <td>Netherlands</td>\n",
              "      <td>Eredivisie</td>\n",
              "      <td>(PSV)</td>\n",
              "      <td>Denzel Dumfries</td>\n",
              "      <td>25</td>\n",
              "      <td>0</td>\n",
              "      <td>2363</td>\n",
              "      <td>7</td>\n",
              "      <td>5.72</td>\n",
              "      <td>0.23</td>\n",
              "      <td>45</td>\n",
              "      <td>14</td>\n",
              "      <td>1.81</td>\n",
              "      <td>0.56</td>\n",
              "      <td>2020</td>\n",
              "    </tr>\n",
              "    <tr>\n",
              "      <th>658</th>\n",
              "      <td>Netherlands</td>\n",
              "      <td>Eredivisie</td>\n",
              "      <td>None</td>\n",
              "      <td>Cyriel Dessers</td>\n",
              "      <td>26</td>\n",
              "      <td>0</td>\n",
              "      <td>2461</td>\n",
              "      <td>15</td>\n",
              "      <td>14.51</td>\n",
              "      <td>0.56</td>\n",
              "      <td>84</td>\n",
              "      <td>43</td>\n",
              "      <td>3.24</td>\n",
              "      <td>1.66</td>\n",
              "      <td>2020</td>\n",
              "    </tr>\n",
              "    <tr>\n",
              "      <th>659</th>\n",
              "      <td>Netherlands</td>\n",
              "      <td>Eredivisie</td>\n",
              "      <td>(PSV)</td>\n",
              "      <td>Cody Gakpo</td>\n",
              "      <td>14</td>\n",
              "      <td>11</td>\n",
              "      <td>1557</td>\n",
              "      <td>7</td>\n",
              "      <td>4.43</td>\n",
              "      <td>0.27</td>\n",
              "      <td>38</td>\n",
              "      <td>15</td>\n",
              "      <td>2.32</td>\n",
              "      <td>0.92</td>\n",
              "      <td>2020</td>\n",
              "    </tr>\n",
              "  </tbody>\n",
              "</table>\n",
              "<p>660 rows × 15 columns</p>\n",
              "</div>\n",
              "      <button class=\"colab-df-convert\" onclick=\"convertToInteractive('df-13de40b1-10d4-4e30-a4c9-a8af72cde261')\"\n",
              "              title=\"Convert this dataframe to an interactive table.\"\n",
              "              style=\"display:none;\">\n",
              "        \n",
              "  <svg xmlns=\"http://www.w3.org/2000/svg\" height=\"24px\"viewBox=\"0 0 24 24\"\n",
              "       width=\"24px\">\n",
              "    <path d=\"M0 0h24v24H0V0z\" fill=\"none\"/>\n",
              "    <path d=\"M18.56 5.44l.94 2.06.94-2.06 2.06-.94-2.06-.94-.94-2.06-.94 2.06-2.06.94zm-11 1L8.5 8.5l.94-2.06 2.06-.94-2.06-.94L8.5 2.5l-.94 2.06-2.06.94zm10 10l.94 2.06.94-2.06 2.06-.94-2.06-.94-.94-2.06-.94 2.06-2.06.94z\"/><path d=\"M17.41 7.96l-1.37-1.37c-.4-.4-.92-.59-1.43-.59-.52 0-1.04.2-1.43.59L10.3 9.45l-7.72 7.72c-.78.78-.78 2.05 0 2.83L4 21.41c.39.39.9.59 1.41.59.51 0 1.02-.2 1.41-.59l7.78-7.78 2.81-2.81c.8-.78.8-2.07 0-2.86zM5.41 20L4 18.59l7.72-7.72 1.47 1.35L5.41 20z\"/>\n",
              "  </svg>\n",
              "      </button>\n",
              "      \n",
              "  <style>\n",
              "    .colab-df-container {\n",
              "      display:flex;\n",
              "      flex-wrap:wrap;\n",
              "      gap: 12px;\n",
              "    }\n",
              "\n",
              "    .colab-df-convert {\n",
              "      background-color: #E8F0FE;\n",
              "      border: none;\n",
              "      border-radius: 50%;\n",
              "      cursor: pointer;\n",
              "      display: none;\n",
              "      fill: #1967D2;\n",
              "      height: 32px;\n",
              "      padding: 0 0 0 0;\n",
              "      width: 32px;\n",
              "    }\n",
              "\n",
              "    .colab-df-convert:hover {\n",
              "      background-color: #E2EBFA;\n",
              "      box-shadow: 0px 1px 2px rgba(60, 64, 67, 0.3), 0px 1px 3px 1px rgba(60, 64, 67, 0.15);\n",
              "      fill: #174EA6;\n",
              "    }\n",
              "\n",
              "    [theme=dark] .colab-df-convert {\n",
              "      background-color: #3B4455;\n",
              "      fill: #D2E3FC;\n",
              "    }\n",
              "\n",
              "    [theme=dark] .colab-df-convert:hover {\n",
              "      background-color: #434B5C;\n",
              "      box-shadow: 0px 1px 3px 1px rgba(0, 0, 0, 0.15);\n",
              "      filter: drop-shadow(0px 1px 2px rgba(0, 0, 0, 0.3));\n",
              "      fill: #FFFFFF;\n",
              "    }\n",
              "  </style>\n",
              "\n",
              "      <script>\n",
              "        const buttonEl =\n",
              "          document.querySelector('#df-13de40b1-10d4-4e30-a4c9-a8af72cde261 button.colab-df-convert');\n",
              "        buttonEl.style.display =\n",
              "          google.colab.kernel.accessAllowed ? 'block' : 'none';\n",
              "\n",
              "        async function convertToInteractive(key) {\n",
              "          const element = document.querySelector('#df-13de40b1-10d4-4e30-a4c9-a8af72cde261');\n",
              "          const dataTable =\n",
              "            await google.colab.kernel.invokeFunction('convertToInteractive',\n",
              "                                                     [key], {});\n",
              "          if (!dataTable) return;\n",
              "\n",
              "          const docLinkHtml = 'Like what you see? Visit the ' +\n",
              "            '<a target=\"_blank\" href=https://colab.research.google.com/notebooks/data_table.ipynb>data table notebook</a>'\n",
              "            + ' to learn more about interactive tables.';\n",
              "          element.innerHTML = '';\n",
              "          dataTable['output_type'] = 'display_data';\n",
              "          await google.colab.output.renderOutput(dataTable, element);\n",
              "          const docLink = document.createElement('div');\n",
              "          docLink.innerHTML = docLinkHtml;\n",
              "          element.appendChild(docLink);\n",
              "        }\n",
              "      </script>\n",
              "    </div>\n",
              "  </div>\n",
              "  "
            ]
          },
          "metadata": {},
          "execution_count": 20
        }
      ]
    },
    {
      "cell_type": "code",
      "source": [
        "x = df['Mins']\n",
        "y = df['Goals']"
      ],
      "metadata": {
        "id": "_KippJxqXdNp"
      },
      "execution_count": null,
      "outputs": []
    },
    {
      "cell_type": "code",
      "source": [
        "np.array(x)\n",
        "np.array(y)"
      ],
      "metadata": {
        "id": "ytz20tm0hG_0",
        "colab": {
          "base_uri": "https://localhost:8080/"
        },
        "outputId": "69a0b3a5-bfcc-4a7a-aed3-c90926b89245"
      },
      "execution_count": null,
      "outputs": [
        {
          "output_type": "execute_result",
          "data": {
            "text/plain": [
              "array([11, 16, 28, 13, 13, 25, 11, 13, 19, 11, 16, 14, 37, 13, 15, 11, 12,\n",
              "       12, 10, 10, 15, 12, 22, 15, 28, 16, 14, 12, 12, 24, 13, 12, 29, 18,\n",
              "       12, 16, 13, 24, 16, 26,  8, 11, 11, 11, 15, 11, 30,  8, 21, 10, 12,\n",
              "       16,  9,  8, 31,  9, 15, 11, 25, 13, 24, 25, 29, 13, 15, 10, 16, 11,\n",
              "       13, 13, 20, 18, 21, 15, 15, 11, 17, 12, 14, 16, 14,  9, 12,  9, 12,\n",
              "       10,  9, 10, 12, 13,  9,  9, 12,  9, 10, 14,  9, 14, 10, 11, 13, 19,\n",
              "       22, 16, 16, 25, 11, 33, 18, 12, 15, 13, 26, 11, 16, 21, 15, 12, 10,\n",
              "       10, 10, 12, 11, 22, 16, 11, 19, 11, 12, 10, 11, 14, 11, 16, 11, 29,\n",
              "       18, 29, 12, 12, 29, 14, 11, 12, 10,  9, 10, 13, 15, 12, 13,  9,  9,\n",
              "       12, 10, 14, 13,  9, 14, 13, 11,  8,  8,  9,  9,  9, 12, 10, 18,  9,\n",
              "        8, 10, 10, 11, 13, 19, 16, 12,  9,  9, 21, 13, 20, 14, 12, 19, 10,\n",
              "       14, 21, 13, 12, 13, 13, 15, 17, 36, 14, 14, 18, 12, 17, 23, 10, 21,\n",
              "       15, 15, 26,  9,  9, 16,  9, 12, 16, 16, 11, 16, 11, 11, 11, 23, 16,\n",
              "       12, 16, 17, 11, 13, 10, 11, 18, 16, 10, 14, 17, 18, 17, 14, 15, 11,\n",
              "       22, 15, 12, 10, 22, 12, 13, 11, 15, 18, 11, 11, 16, 33, 13, 15, 11,\n",
              "       14, 15, 10, 10, 10, 12, 12, 13, 22, 12, 13, 14, 22, 14, 12, 17, 21,\n",
              "       16, 22, 13, 17, 18, 12, 14, 13, 10,  9,  8,  9, 12, 10, 10,  8,  7,\n",
              "        9, 11, 11,  9, 11,  8, 13,  8,  9, 10, 18, 17, 28, 31, 15, 12, 15,\n",
              "       14, 13, 13, 15, 13, 11, 14, 12, 13, 15, 12, 36, 12, 12, 16, 21, 11,\n",
              "       10, 13, 10, 11, 18, 11, 10, 15, 12, 10, 25, 11, 14, 11, 11, 11, 14,\n",
              "        9, 10,  2, 17, 11,  2,  8,  2,  4, 12,  4,  3,  2, 18, 18,  4, 11,\n",
              "       13,  3,  2, 12,  6,  2,  8,  8,  3, 10, 18,  8, 10,  9,  6,  6,  2,\n",
              "        8,  2, 12,  2,  3,  8, 11, 23, 21, 16, 12, 31, 14, 18, 15, 12, 12,\n",
              "       36, 14, 18, 14, 18, 11, 11, 11, 16, 17, 28, 16, 12, 11, 12, 10, 15,\n",
              "       34, 12, 13, 12, 13, 10, 11,  9, 13, 12, 12, 10, 12,  9, 12,  9, 11,\n",
              "       10,  7,  9, 11, 18,  8,  9,  8, 10,  9,  8, 16, 12, 18, 13, 13, 17,\n",
              "       13, 23, 20, 18, 14, 17, 11, 11, 17, 19, 14, 22, 22, 18, 13, 11, 15,\n",
              "       16,  9, 12, 10,  8, 10, 12,  8, 11, 14, 10, 12, 14,  7, 25, 13, 21,\n",
              "        9,  9, 14,  9,  4,  4,  7,  5,  9,  5,  5,  9,  6,  6,  4,  5,  4,\n",
              "        4,  4,  8,  4,  7,  7,  9,  9, 11,  8,  8, 14,  8, 14,  8, 14, 10,\n",
              "       10,  9, 11,  8,  8, 13,  9,  8,  8,  8,  4,  4,  4,  4,  4,  7,  3,\n",
              "        3,  4,  5,  5,  5,  4,  3,  3,  5,  3,  4,  4,  6,  5,  5,  6,  4,\n",
              "        7,  4,  5,  4,  5,  4,  4,  5,  4,  8,  7,  4,  5,  5, 10,  4,  7,\n",
              "        3,  4,  6,  4,  3,  4,  6,  7,  3,  7,  7,  4,  4,  3, 10,  3,  4,\n",
              "        6, 12,  4,  5,  5,  5,  6,  6,  6,  8,  4,  4,  5,  6,  4,  4,  4,\n",
              "        4,  9,  4,  5,  5,  4,  7, 10,  4,  7,  5,  5,  5,  4,  4,  7,  8,\n",
              "        8,  7,  5,  4,  6,  4,  4,  9, 11,  7, 13,  6,  7,  5, 10,  7,  6,\n",
              "        6,  7,  5, 15, 10,  5,  6, 10,  6, 10,  7,  8, 11,  7, 14, 12, 13,\n",
              "       11, 15,  9, 14,  9, 11,  9, 11, 11, 10, 12,  7, 15,  7])"
            ]
          },
          "metadata": {},
          "execution_count": 22
        }
      ]
    },
    {
      "cell_type": "code",
      "source": [
        "print(x)\n",
        "print(y)"
      ],
      "metadata": {
        "id": "yTSREbVOftcn",
        "colab": {
          "base_uri": "https://localhost:8080/"
        },
        "outputId": "32796728-3b64-42a4-d1b8-7c64b77b3a16"
      },
      "execution_count": null,
      "outputs": [
        {
          "output_type": "stream",
          "name": "stdout",
          "text": [
            "0      1849\n",
            "1      3129\n",
            "2      2940\n",
            "3      2842\n",
            "4      1745\n",
            "       ... \n",
            "655    2155\n",
            "656    1573\n",
            "657    2363\n",
            "658    2461\n",
            "659    1557\n",
            "Name: Mins, Length: 660, dtype: int64\n",
            "0      11\n",
            "1      16\n",
            "2      28\n",
            "3      13\n",
            "4      13\n",
            "       ..\n",
            "655    10\n",
            "656    12\n",
            "657     7\n",
            "658    15\n",
            "659     7\n",
            "Name: Goals, Length: 660, dtype: int64\n"
          ]
        }
      ]
    },
    {
      "cell_type": "code",
      "source": [
        "plt.plot(x, y, 'o');"
      ],
      "metadata": {
        "id": "DVSexQeef922",
        "colab": {
          "base_uri": "https://localhost:8080/",
          "height": 268
        },
        "outputId": "7da240fa-8cdb-4c62-c981-b25c7d60c3ce"
      },
      "execution_count": null,
      "outputs": [
        {
          "output_type": "display_data",
          "data": {
            "text/plain": [
              "<Figure size 432x288 with 1 Axes>"
            ],
            "image/png": "[encoded data removed]"
          },
          "metadata": {}
        }
      ]
    },
    {
      "cell_type": "code",
      "source": [
        "X = x[:, np.newaxis]"
      ],
      "metadata": {
        "id": "T7_geV8qgDKq",
        "colab": {
          "base_uri": "https://localhost:8080/"
        },
        "outputId": "01d25408-e8f4-40f1-a419-c0d89f3e7077"
      },
      "execution_count": null,
      "outputs": [
        {
          "output_type": "stream",
          "name": "stderr",
          "text": [
            "<ipython-input-28-1b0fc93ebd3f>:1: FutureWarning: Support for multi-dimensional indexing (e.g. `obj[:, None]`) is deprecated and will be removed in a future version.  Convert to a numpy array before indexing instead.\n",
            "  X = x[:, np.newaxis]\n"
          ]
        }
      ]
    },
    {
      "cell_type": "code",
      "source": [
        "model = LinearRegression()"
      ],
      "metadata": {
        "id": "glbsUAJGRXZ_"
      },
      "execution_count": null,
      "outputs": []
    },
    {
      "cell_type": "code",
      "source": [
        "model.fit(X, y)"
      ],
      "metadata": {
        "id": "cQefYMPKhTrH",
        "colab": {
          "base_uri": "https://localhost:8080/"
        },
        "outputId": "f412cdaa-426f-4101-9542-96e3f78d74aa"
      },
      "execution_count": null,
      "outputs": [
        {
          "output_type": "execute_result",
          "data": {
            "text/plain": [
              "LinearRegression()"
            ]
          },
          "metadata": {},
          "execution_count": 39
        }
      ]
    },
    {
      "cell_type": "code",
      "source": [
        "# Plot Regression\n",
        "model = LinearRegression()\n",
        "model.fit(X, y)\n",
        "\n",
        "X_fit = np.linspace(0, 5000, 50)[:, np.newaxis]\n",
        "y_fit = model.predict(X_fit)\n",
        "\n",
        "plt.plot(X.squeeze(), y, 'o', color='Blue')\n",
        "plt.plot(X_fit.squeeze(), y_fit, 'o', color='Red');\n",
        "plt.plot(X_fit.squeeze(), y_fit, color='Red');\n",
        "plt.title('Regression showing correlation between minutes played and goals scored')\n",
        "plt.xlabel('Mins played')\n",
        "plt.ylabel('Goals Scored')\n",
        "print(model.coef_)\n",
        "print(model.intercept_)"
      ],
      "metadata": {
        "id": "wTgRMA1HXdC0",
        "colab": {
          "base_uri": "https://localhost:8080/",
          "height": 337
        },
        "outputId": "a5e62aa1-34a9-4d08-d293-688ed6153fcc"
      },
      "execution_count": null,
      "outputs": [
        {
          "output_type": "stream",
          "name": "stdout",
          "text": [
            "[0.00456001]\n",
            "2.3391689526735373\n"
          ]
        },
        {
          "output_type": "display_data",
          "data": {
            "text/plain": [
              "<Figure size 432x288 with 1 Axes>"
            ],
            "image/png": "[encoded data removed]"
          },
          "metadata": {}
        }
      ]
    },
    {
      "cell_type": "markdown",
      "source": [
        "### Code for Clustering"
      ],
      "metadata": {
        "id": "8Sjz1MTjONCV"
      }
    },
    {
      "cell_type": "markdown",
      "source": [
        "Creating a cluster dendogram to view how closely linked online stores are to physical stores"
      ],
      "metadata": {
        "id": "3M5mGSoIOJxI"
      }
    },
    {
      "cell_type": "code",
      "source": [
        "# Add intial set of imports \n",
        "%matplotlib inline\n",
        "import matplotlib.pyplot as plt\n",
        "import seaborn as sns; sns.set()\n",
        "import numpy as np\n",
        "import pandas as pd"
      ],
      "metadata": {
        "id": "i7IVq_GpnNKV"
      },
      "execution_count": null,
      "outputs": []
    },
    {
      "cell_type": "code",
      "source": [
        "# Install Yahoo Finance for finacial data\n",
        "!pip install yfinance"
      ],
      "metadata": {
        "id": "0AJyUyjTnNAQ",
        "colab": {
          "base_uri": "https://localhost:8080/"
        },
        "outputId": "12ad8dfd-67a2-4e20-f8ee-d294b26f2425"
      },
      "execution_count": null,
      "outputs": [
        {
          "output_type": "stream",
          "name": "stdout",
          "text": [
            "Looking in indexes: https://pypi.org/simple, https://us-python.pkg.dev/colab-wheels/public/simple/\n",
            "Collecting yfinance\n",
            "  Downloading yfinance-0.2.3-py2.py3-none-any.whl (50 kB)\n",
            "\u001b[2K     \u001b[90m━━━━━━━━━━━━━━━━━━━━━━━━━━━━━━━━━━━━━━━━\u001b[0m \u001b[32m50.4/50.4 KB\u001b[0m \u001b[31m5.6 MB/s\u001b[0m eta \u001b[36m0:00:00\u001b[0m\n",
            "\u001b[?25hRequirement already satisfied: pandas>=1.3.0 in /usr/local/lib/python3.8/dist-packages (from yfinance) (1.3.5)\n",
            "Requirement already satisfied: lxml>=4.9.1 in /usr/local/lib/python3.8/dist-packages (from yfinance) (4.9.2)\n",
            "Requirement already satisfied: multitasking>=0.0.7 in /usr/local/lib/python3.8/dist-packages (from yfinance) (0.0.11)\n",
            "Collecting cryptography>=3.3.2\n",
            "  Downloading cryptography-39.0.0-cp36-abi3-manylinux_2_24_x86_64.whl (4.1 MB)\n",
            "\u001b[2K     \u001b[90m━━━━━━━━━━━━━━━━━━━━━━━━━━━━━━━━━━━━━━━━\u001b[0m \u001b[32m4.1/4.1 MB\u001b[0m \u001b[31m57.0 MB/s\u001b[0m eta \u001b[36m0:00:00\u001b[0m\n",
            "\u001b[?25hCollecting html5lib>=1.1\n",
            "  Downloading html5lib-1.1-py2.py3-none-any.whl (112 kB)\n",
            "\u001b[2K     \u001b[90m━━━━━━━━━━━━━━━━━━━━━━━━━━━━━━━━━━━━━━\u001b[0m \u001b[32m112.2/112.2 KB\u001b[0m \u001b[31m12.8 MB/s\u001b[0m eta \u001b[36m0:00:00\u001b[0m\n",
            "\u001b[?25hRequirement already satisfied: pytz>=2022.5 in /usr/local/lib/python3.8/dist-packages (from yfinance) (2022.7)\n",
            "Requirement already satisfied: numpy>=1.16.5 in /usr/local/lib/python3.8/dist-packages (from yfinance) (1.21.6)\n",
            "Requirement already satisfied: appdirs>=1.4.4 in /usr/local/lib/python3.8/dist-packages (from yfinance) (1.4.4)\n",
            "Collecting beautifulsoup4>=4.11.1\n",
            "  Downloading beautifulsoup4-4.11.1-py3-none-any.whl (128 kB)\n",
            "\u001b[2K     \u001b[90m━━━━━━━━━━━━━━━━━━━━━━━━━━━━━━━━━━━━━━\u001b[0m \u001b[32m128.2/128.2 KB\u001b[0m \u001b[31m16.1 MB/s\u001b[0m eta \u001b[36m0:00:00\u001b[0m\n",
            "\u001b[?25hCollecting requests>=2.26\n",
            "  Downloading requests-2.28.1-py3-none-any.whl (62 kB)\n",
            "\u001b[2K     \u001b[90m━━━━━━━━━━━━━━━━━━━━━━━━━━━━━━━━━━━━━━━━\u001b[0m \u001b[32m62.8/62.8 KB\u001b[0m \u001b[31m7.4 MB/s\u001b[0m eta \u001b[36m0:00:00\u001b[0m\n",
            "\u001b[?25hCollecting frozendict>=2.3.4\n",
            "  Downloading frozendict-2.3.4-cp38-cp38-manylinux_2_17_x86_64.manylinux2014_x86_64.whl (110 kB)\n",
            "\u001b[2K     \u001b[90m━━━━━━━━━━━━━━━━━━━━━━━━━━━━━━━━━━━━━━\u001b[0m \u001b[32m111.0/111.0 KB\u001b[0m \u001b[31m14.2 MB/s\u001b[0m eta \u001b[36m0:00:00\u001b[0m\n",
            "\u001b[?25hCollecting soupsieve>1.2\n",
            "  Downloading soupsieve-2.3.2.post1-py3-none-any.whl (37 kB)\n",
            "Requirement already satisfied: cffi>=1.12 in /usr/local/lib/python3.8/dist-packages (from cryptography>=3.3.2->yfinance) (1.15.1)\n",
            "Requirement already satisfied: six>=1.9 in /usr/local/lib/python3.8/dist-packages (from html5lib>=1.1->yfinance) (1.15.0)\n",
            "Requirement already satisfied: webencodings in /usr/local/lib/python3.8/dist-packages (from html5lib>=1.1->yfinance) (0.5.1)\n",
            "Requirement already satisfied: python-dateutil>=2.7.3 in /usr/local/lib/python3.8/dist-packages (from pandas>=1.3.0->yfinance) (2.8.2)\n",
            "Requirement already satisfied: charset-normalizer<3,>=2 in /usr/local/lib/python3.8/dist-packages (from requests>=2.26->yfinance) (2.1.1)\n",
            "Requirement already satisfied: idna<4,>=2.5 in /usr/local/lib/python3.8/dist-packages (from requests>=2.26->yfinance) (2.10)\n",
            "Requirement already satisfied: certifi>=2017.4.17 in /usr/local/lib/python3.8/dist-packages (from requests>=2.26->yfinance) (2022.12.7)\n",
            "Requirement already satisfied: urllib3<1.27,>=1.21.1 in /usr/local/lib/python3.8/dist-packages (from requests>=2.26->yfinance) (1.24.3)\n",
            "Requirement already satisfied: pycparser in /usr/local/lib/python3.8/dist-packages (from cffi>=1.12->cryptography>=3.3.2->yfinance) (2.21)\n",
            "Installing collected packages: soupsieve, requests, html5lib, frozendict, cryptography, beautifulsoup4, yfinance\n",
            "  Attempting uninstall: requests\n",
            "    Found existing installation: requests 2.25.1\n",
            "    Uninstalling requests-2.25.1:\n",
            "      Successfully uninstalled requests-2.25.1\n",
            "  Attempting uninstall: html5lib\n",
            "    Found existing installation: html5lib 1.0.1\n",
            "    Uninstalling html5lib-1.0.1:\n",
            "      Successfully uninstalled html5lib-1.0.1\n",
            "  Attempting uninstall: beautifulsoup4\n",
            "    Found existing installation: beautifulsoup4 4.6.3\n",
            "    Uninstalling beautifulsoup4-4.6.3:\n",
            "      Successfully uninstalled beautifulsoup4-4.6.3\n",
            "Successfully installed beautifulsoup4-4.11.1 cryptography-39.0.0 frozendict-2.3.4 html5lib-1.1 requests-2.28.1 soupsieve-2.3.2.post1 yfinance-0.2.3\n"
          ]
        }
      ]
    },
    {
      "cell_type": "code",
      "source": [
        "import yfinance as yf"
      ],
      "metadata": {
        "id": "H-VDvWupnM0C"
      },
      "execution_count": null,
      "outputs": []
    },
    {
      "cell_type": "code",
      "source": [
        "# Adding in both online and instore companies to test with\n",
        "amazon = yf.Ticker(\"AMZN\").history(period='5y')\n",
        "alibaba = yf.Ticker(\"BABA\").history(period='5y')\n",
        "ebay = yf.Ticker(\"EBAY\").history(period='5y')\n",
        "etsy = yf.Ticker(\"ETSY\").history(period='5y')\n",
        "gap = yf.Ticker(\"GPS\").history(period='5y')\n",
        "tkmax = yf.Ticker(\"TJX\").history(period='5y')\n",
        "costco = yf.Ticker(\"COST\").history(period='5y')"
      ],
      "metadata": {
        "id": "L5aEGNFOOXSh"
      },
      "execution_count": null,
      "outputs": []
    },
    {
      "cell_type": "markdown",
      "source": [
        "Here we have the stock data for 4 online stores (amazon, ali-baba, ebay and etsy) and 3 in-person stores (gap, tk max and costco)"
      ],
      "metadata": {
        "id": "PmDJ17emOb6x"
      }
    },
    {
      "cell_type": "code",
      "source": [
        "# Instead of downloading all the OHLC data we are only going to look at the close data for each stock. The code below extracts that for us.\n",
        "dfs=[] \n",
        "for x in ['AMZN','BABA','EBAY','ETSY','GPS','TJX','COST']:\n",
        "  df = yf.Ticker(x).history(period='5y')\n",
        "  df=df[['Close']]\n",
        "  df['Name']=x\n",
        "  dfs.append(df)"
      ],
      "metadata": {
        "id": "ZJRjUigJOXQD"
      },
      "execution_count": null,
      "outputs": []
    },
    {
      "cell_type": "code",
      "source": [
        "# This stacks all the data ontop of each other\n",
        "pd.concat(dfs)"
      ],
      "metadata": {
        "colab": {
          "base_uri": "https://localhost:8080/",
          "height": 455
        },
        "id": "wEn0w2fqOXKy",
        "outputId": "59c62527-8a6c-4789-e603-557b358b1171"
      },
      "execution_count": null,
      "outputs": [
        {
          "output_type": "execute_result",
          "data": {
            "text/plain": [
              "                                Close  Name\n",
              "Date                                       \n",
              "2018-01-08 00:00:00-05:00   62.343498  AMZN\n",
              "2018-01-09 00:00:00-05:00   62.634998  AMZN\n",
              "2018-01-10 00:00:00-05:00   62.716499  AMZN\n",
              "2018-01-11 00:00:00-05:00   63.834000  AMZN\n",
              "2018-01-12 00:00:00-05:00   65.260002  AMZN\n",
              "...                               ...   ...\n",
              "2022-12-30 00:00:00-05:00  456.500000  COST\n",
              "2023-01-03 00:00:00-05:00  453.279999  COST\n",
              "2023-01-04 00:00:00-05:00  456.559998  COST\n",
              "2023-01-05 00:00:00-05:00  450.190002  COST\n",
              "2023-01-06 00:00:00-05:00  482.869995  COST\n",
              "\n",
              "[8813 rows x 2 columns]"
            ],
            "text/html": [
              "\n",
              "  <div id=\"df-6ee1d8f7-aef5-48e6-8838-29f15a71f505\">\n",
              "    <div class=\"colab-df-container\">\n",
              "      <div>\n",
              "<style scoped>\n",
              "    .dataframe tbody tr th:only-of-type {\n",
              "        vertical-align: middle;\n",
              "    }\n",
              "\n",
              "    .dataframe tbody tr th {\n",
              "        vertical-align: top;\n",
              "    }\n",
              "\n",
              "    .dataframe thead th {\n",
              "        text-align: right;\n",
              "    }\n",
              "</style>\n",
              "<table border=\"1\" class=\"dataframe\">\n",
              "  <thead>\n",
              "    <tr style=\"text-align: right;\">\n",
              "      <th></th>\n",
              "      <th>Close</th>\n",
              "      <th>Name</th>\n",
              "    </tr>\n",
              "    <tr>\n",
              "      <th>Date</th>\n",
              "      <th></th>\n",
              "      <th></th>\n",
              "    </tr>\n",
              "  </thead>\n",
              "  <tbody>\n",
              "    <tr>\n",
              "      <th>2018-01-08 00:00:00-05:00</th>\n",
              "      <td>62.343498</td>\n",
              "      <td>AMZN</td>\n",
              "    </tr>\n",
              "    <tr>\n",
              "      <th>2018-01-09 00:00:00-05:00</th>\n",
              "      <td>62.634998</td>\n",
              "      <td>AMZN</td>\n",
              "    </tr>\n",
              "    <tr>\n",
              "      <th>2018-01-10 00:00:00-05:00</th>\n",
              "      <td>62.716499</td>\n",
              "      <td>AMZN</td>\n",
              "    </tr>\n",
              "    <tr>\n",
              "      <th>2018-01-11 00:00:00-05:00</th>\n",
              "      <td>63.834000</td>\n",
              "      <td>AMZN</td>\n",
              "    </tr>\n",
              "    <tr>\n",
              "      <th>2018-01-12 00:00:00-05:00</th>\n",
              "      <td>65.260002</td>\n",
              "      <td>AMZN</td>\n",
              "    </tr>\n",
              "    <tr>\n",
              "      <th>...</th>\n",
              "      <td>...</td>\n",
              "      <td>...</td>\n",
              "    </tr>\n",
              "    <tr>\n",
              "      <th>2022-12-30 00:00:00-05:00</th>\n",
              "      <td>456.500000</td>\n",
              "      <td>COST</td>\n",
              "    </tr>\n",
              "    <tr>\n",
              "      <th>2023-01-03 00:00:00-05:00</th>\n",
              "      <td>453.279999</td>\n",
              "      <td>COST</td>\n",
              "    </tr>\n",
              "    <tr>\n",
              "      <th>2023-01-04 00:00:00-05:00</th>\n",
              "      <td>456.559998</td>\n",
              "      <td>COST</td>\n",
              "    </tr>\n",
              "    <tr>\n",
              "      <th>2023-01-05 00:00:00-05:00</th>\n",
              "      <td>450.190002</td>\n",
              "      <td>COST</td>\n",
              "    </tr>\n",
              "    <tr>\n",
              "      <th>2023-01-06 00:00:00-05:00</th>\n",
              "      <td>482.869995</td>\n",
              "      <td>COST</td>\n",
              "    </tr>\n",
              "  </tbody>\n",
              "</table>\n",
              "<p>8813 rows × 2 columns</p>\n",
              "</div>\n",
              "      <button class=\"colab-df-convert\" onclick=\"convertToInteractive('df-6ee1d8f7-aef5-48e6-8838-29f15a71f505')\"\n",
              "              title=\"Convert this dataframe to an interactive table.\"\n",
              "              style=\"display:none;\">\n",
              "        \n",
              "  <svg xmlns=\"http://www.w3.org/2000/svg\" height=\"24px\"viewBox=\"0 0 24 24\"\n",
              "       width=\"24px\">\n",
              "    <path d=\"M0 0h24v24H0V0z\" fill=\"none\"/>\n",
              "    <path d=\"M18.56 5.44l.94 2.06.94-2.06 2.06-.94-2.06-.94-.94-2.06-.94 2.06-2.06.94zm-11 1L8.5 8.5l.94-2.06 2.06-.94-2.06-.94L8.5 2.5l-.94 2.06-2.06.94zm10 10l.94 2.06.94-2.06 2.06-.94-2.06-.94-.94-2.06-.94 2.06-2.06.94z\"/><path d=\"M17.41 7.96l-1.37-1.37c-.4-.4-.92-.59-1.43-.59-.52 0-1.04.2-1.43.59L10.3 9.45l-7.72 7.72c-.78.78-.78 2.05 0 2.83L4 21.41c.39.39.9.59 1.41.59.51 0 1.02-.2 1.41-.59l7.78-7.78 2.81-2.81c.8-.78.8-2.07 0-2.86zM5.41 20L4 18.59l7.72-7.72 1.47 1.35L5.41 20z\"/>\n",
              "  </svg>\n",
              "      </button>\n",
              "      \n",
              "  <style>\n",
              "    .colab-df-container {\n",
              "      display:flex;\n",
              "      flex-wrap:wrap;\n",
              "      gap: 12px;\n",
              "    }\n",
              "\n",
              "    .colab-df-convert {\n",
              "      background-color: #E8F0FE;\n",
              "      border: none;\n",
              "      border-radius: 50%;\n",
              "      cursor: pointer;\n",
              "      display: none;\n",
              "      fill: #1967D2;\n",
              "      height: 32px;\n",
              "      padding: 0 0 0 0;\n",
              "      width: 32px;\n",
              "    }\n",
              "\n",
              "    .colab-df-convert:hover {\n",
              "      background-color: #E2EBFA;\n",
              "      box-shadow: 0px 1px 2px rgba(60, 64, 67, 0.3), 0px 1px 3px 1px rgba(60, 64, 67, 0.15);\n",
              "      fill: #174EA6;\n",
              "    }\n",
              "\n",
              "    [theme=dark] .colab-df-convert {\n",
              "      background-color: #3B4455;\n",
              "      fill: #D2E3FC;\n",
              "    }\n",
              "\n",
              "    [theme=dark] .colab-df-convert:hover {\n",
              "      background-color: #434B5C;\n",
              "      box-shadow: 0px 1px 3px 1px rgba(0, 0, 0, 0.15);\n",
              "      filter: drop-shadow(0px 1px 2px rgba(0, 0, 0, 0.3));\n",
              "      fill: #FFFFFF;\n",
              "    }\n",
              "  </style>\n",
              "\n",
              "      <script>\n",
              "        const buttonEl =\n",
              "          document.querySelector('#df-6ee1d8f7-aef5-48e6-8838-29f15a71f505 button.colab-df-convert');\n",
              "        buttonEl.style.display =\n",
              "          google.colab.kernel.accessAllowed ? 'block' : 'none';\n",
              "\n",
              "        async function convertToInteractive(key) {\n",
              "          const element = document.querySelector('#df-6ee1d8f7-aef5-48e6-8838-29f15a71f505');\n",
              "          const dataTable =\n",
              "            await google.colab.kernel.invokeFunction('convertToInteractive',\n",
              "                                                     [key], {});\n",
              "          if (!dataTable) return;\n",
              "\n",
              "          const docLinkHtml = 'Like what you see? Visit the ' +\n",
              "            '<a target=\"_blank\" href=https://colab.research.google.com/notebooks/data_table.ipynb>data table notebook</a>'\n",
              "            + ' to learn more about interactive tables.';\n",
              "          element.innerHTML = '';\n",
              "          dataTable['output_type'] = 'display_data';\n",
              "          await google.colab.output.renderOutput(dataTable, element);\n",
              "          const docLink = document.createElement('div');\n",
              "          docLink.innerHTML = docLinkHtml;\n",
              "          element.appendChild(docLink);\n",
              "        }\n",
              "      </script>\n",
              "    </div>\n",
              "  </div>\n",
              "  "
            ]
          },
          "metadata": {},
          "execution_count": 6
        }
      ]
    },
    {
      "cell_type": "code",
      "source": [
        "dfz=pd.DataFrame() \n",
        "for x in dfs:\n",
        "  stock_name=x['Name'].values[0]\n",
        "  stock_name=stock_name.replace('.','')\n",
        "  x=x[['Close']]\n",
        "  x.index=x.index.astype(str).str[:10]\n",
        "  x.columns=[stock_name]\n",
        "  dfz=x.join(dfz)"
      ],
      "metadata": {
        "id": "ToZ1_V_NOXIL"
      },
      "execution_count": null,
      "outputs": []
    },
    {
      "cell_type": "code",
      "source": [
        "dfz.to_csv('stockdata.csv')"
      ],
      "metadata": {
        "id": "Y1LEqLl1OXEy"
      },
      "execution_count": null,
      "outputs": []
    },
    {
      "cell_type": "code",
      "source": [
        "import scipy.cluster.hierarchy as sch"
      ],
      "metadata": {
        "id": "EwOmLLiDOXAb"
      },
      "execution_count": null,
      "outputs": []
    },
    {
      "cell_type": "code",
      "source": [
        "stocks=pd.read_csv('stockdata.csv').dropna()\n",
        "for x in stocks.columns[1:8] :\n",
        "  stocks[x+'_z_norm']= (stocks[x] - stocks[x].mean())/stocks[x].std()\n",
        "stock_stack=stocks.set_index('Date').stack().reset_index()\n",
        "stock_stack.columns=['Date','Stock','Value']\n",
        "stock_stack['Date']=pd.to_datetime(stock_stack['Date'])\n",
        "stock_stack=stock_stack[stock_stack['Stock'].str.contains('z_norm')]\n",
        "stock_stack.head()"
      ],
      "metadata": {
        "id": "gXgKRybeOwFy",
        "colab": {
          "base_uri": "https://localhost:8080/",
          "height": 206
        },
        "outputId": "bfcc49e5-df26-4680-82bc-7e9fb731bd6b"
      },
      "execution_count": null,
      "outputs": [
        {
          "output_type": "execute_result",
          "data": {
            "text/plain": [
              "         Date        Stock     Value\n",
              "7  2018-01-08  COST_z_norm -1.353818\n",
              "8  2018-01-08   TJX_z_norm -2.070571\n",
              "9  2018-01-08   GPS_z_norm  1.276443\n",
              "10 2018-01-08  ETSY_z_norm -1.278679\n",
              "11 2018-01-08  EBAY_z_norm -0.606038"
            ],
            "text/html": [
              "\n",
              "  <div id=\"df-ba1d3238-f944-435c-b45e-7dda1589ecc3\">\n",
              "    <div class=\"colab-df-container\">\n",
              "      <div>\n",
              "<style scoped>\n",
              "    .dataframe tbody tr th:only-of-type {\n",
              "        vertical-align: middle;\n",
              "    }\n",
              "\n",
              "    .dataframe tbody tr th {\n",
              "        vertical-align: top;\n",
              "    }\n",
              "\n",
              "    .dataframe thead th {\n",
              "        text-align: right;\n",
              "    }\n",
              "</style>\n",
              "<table border=\"1\" class=\"dataframe\">\n",
              "  <thead>\n",
              "    <tr style=\"text-align: right;\">\n",
              "      <th></th>\n",
              "      <th>Date</th>\n",
              "      <th>Stock</th>\n",
              "      <th>Value</th>\n",
              "    </tr>\n",
              "  </thead>\n",
              "  <tbody>\n",
              "    <tr>\n",
              "      <th>7</th>\n",
              "      <td>2018-01-08</td>\n",
              "      <td>COST_z_norm</td>\n",
              "      <td>-1.353818</td>\n",
              "    </tr>\n",
              "    <tr>\n",
              "      <th>8</th>\n",
              "      <td>2018-01-08</td>\n",
              "      <td>TJX_z_norm</td>\n",
              "      <td>-2.070571</td>\n",
              "    </tr>\n",
              "    <tr>\n",
              "      <th>9</th>\n",
              "      <td>2018-01-08</td>\n",
              "      <td>GPS_z_norm</td>\n",
              "      <td>1.276443</td>\n",
              "    </tr>\n",
              "    <tr>\n",
              "      <th>10</th>\n",
              "      <td>2018-01-08</td>\n",
              "      <td>ETSY_z_norm</td>\n",
              "      <td>-1.278679</td>\n",
              "    </tr>\n",
              "    <tr>\n",
              "      <th>11</th>\n",
              "      <td>2018-01-08</td>\n",
              "      <td>EBAY_z_norm</td>\n",
              "      <td>-0.606038</td>\n",
              "    </tr>\n",
              "  </tbody>\n",
              "</table>\n",
              "</div>\n",
              "      <button class=\"colab-df-convert\" onclick=\"convertToInteractive('df-ba1d3238-f944-435c-b45e-7dda1589ecc3')\"\n",
              "              title=\"Convert this dataframe to an interactive table.\"\n",
              "              style=\"display:none;\">\n",
              "        \n",
              "  <svg xmlns=\"http://www.w3.org/2000/svg\" height=\"24px\"viewBox=\"0 0 24 24\"\n",
              "       width=\"24px\">\n",
              "    <path d=\"M0 0h24v24H0V0z\" fill=\"none\"/>\n",
              "    <path d=\"M18.56 5.44l.94 2.06.94-2.06 2.06-.94-2.06-.94-.94-2.06-.94 2.06-2.06.94zm-11 1L8.5 8.5l.94-2.06 2.06-.94-2.06-.94L8.5 2.5l-.94 2.06-2.06.94zm10 10l.94 2.06.94-2.06 2.06-.94-2.06-.94-.94-2.06-.94 2.06-2.06.94z\"/><path d=\"M17.41 7.96l-1.37-1.37c-.4-.4-.92-.59-1.43-.59-.52 0-1.04.2-1.43.59L10.3 9.45l-7.72 7.72c-.78.78-.78 2.05 0 2.83L4 21.41c.39.39.9.59 1.41.59.51 0 1.02-.2 1.41-.59l7.78-7.78 2.81-2.81c.8-.78.8-2.07 0-2.86zM5.41 20L4 18.59l7.72-7.72 1.47 1.35L5.41 20z\"/>\n",
              "  </svg>\n",
              "      </button>\n",
              "      \n",
              "  <style>\n",
              "    .colab-df-container {\n",
              "      display:flex;\n",
              "      flex-wrap:wrap;\n",
              "      gap: 12px;\n",
              "    }\n",
              "\n",
              "    .colab-df-convert {\n",
              "      background-color: #E8F0FE;\n",
              "      border: none;\n",
              "      border-radius: 50%;\n",
              "      cursor: pointer;\n",
              "      display: none;\n",
              "      fill: #1967D2;\n",
              "      height: 32px;\n",
              "      padding: 0 0 0 0;\n",
              "      width: 32px;\n",
              "    }\n",
              "\n",
              "    .colab-df-convert:hover {\n",
              "      background-color: #E2EBFA;\n",
              "      box-shadow: 0px 1px 2px rgba(60, 64, 67, 0.3), 0px 1px 3px 1px rgba(60, 64, 67, 0.15);\n",
              "      fill: #174EA6;\n",
              "    }\n",
              "\n",
              "    [theme=dark] .colab-df-convert {\n",
              "      background-color: #3B4455;\n",
              "      fill: #D2E3FC;\n",
              "    }\n",
              "\n",
              "    [theme=dark] .colab-df-convert:hover {\n",
              "      background-color: #434B5C;\n",
              "      box-shadow: 0px 1px 3px 1px rgba(0, 0, 0, 0.15);\n",
              "      filter: drop-shadow(0px 1px 2px rgba(0, 0, 0, 0.3));\n",
              "      fill: #FFFFFF;\n",
              "    }\n",
              "  </style>\n",
              "\n",
              "      <script>\n",
              "        const buttonEl =\n",
              "          document.querySelector('#df-ba1d3238-f944-435c-b45e-7dda1589ecc3 button.colab-df-convert');\n",
              "        buttonEl.style.display =\n",
              "          google.colab.kernel.accessAllowed ? 'block' : 'none';\n",
              "\n",
              "        async function convertToInteractive(key) {\n",
              "          const element = document.querySelector('#df-ba1d3238-f944-435c-b45e-7dda1589ecc3');\n",
              "          const dataTable =\n",
              "            await google.colab.kernel.invokeFunction('convertToInteractive',\n",
              "                                                     [key], {});\n",
              "          if (!dataTable) return;\n",
              "\n",
              "          const docLinkHtml = 'Like what you see? Visit the ' +\n",
              "            '<a target=\"_blank\" href=https://colab.research.google.com/notebooks/data_table.ipynb>data table notebook</a>'\n",
              "            + ' to learn more about interactive tables.';\n",
              "          element.innerHTML = '';\n",
              "          dataTable['output_type'] = 'display_data';\n",
              "          await google.colab.output.renderOutput(dataTable, element);\n",
              "          const docLink = document.createElement('div');\n",
              "          docLink.innerHTML = docLinkHtml;\n",
              "          element.appendChild(docLink);\n",
              "        }\n",
              "      </script>\n",
              "    </div>\n",
              "  </div>\n",
              "  "
            ]
          },
          "metadata": {},
          "execution_count": 71
        }
      ]
    },
    {
      "cell_type": "code",
      "source": [
        "TimeSeries=stock_stack.set_index(['Date','Stock']).unstack()['Value']\n",
        "TimeSeries.columns=[i[:8] for i in TimeSeries.columns]"
      ],
      "metadata": {
        "id": "I42t6zZdOzHK"
      },
      "execution_count": null,
      "outputs": []
    },
    {
      "cell_type": "code",
      "source": [
        "TimeSeries.plot()"
      ],
      "metadata": {
        "id": "e9XuuqsdO7uu",
        "colab": {
          "base_uri": "https://localhost:8080/",
          "height": 294
        },
        "outputId": "e6e825df-34ef-4672-9cc7-9bb631e05606"
      },
      "execution_count": 78,
      "outputs": [
        {
          "output_type": "execute_result",
          "data": {
            "text/plain": [
              "<matplotlib.axes._subplots.AxesSubplot at 0x7fc08e055a90>"
            ]
          },
          "metadata": {},
          "execution_count": 78
        },
        {
          "output_type": "display_data",
          "data": {
            "text/plain": [
              "<Figure size 432x288 with 1 Axes>"
            ],
            "image/png": "[encoded data removed]"
          },
          "metadata": {}
        }
      ]
    },
    {
      "cell_type": "code",
      "source": [
        "Z = sch.linkage(TimeSeries.T, method='ward', metric='euclidean')\n",
        "\n",
        "# Plot dendogram\n",
        "plt.figure(figsize=(25, 10))\n",
        "plt.title('Hierarchical Clustering Dendrogram of Online vs In-person Stores')\n",
        "plt.xlabel('Companies')\n",
        "plt.ylabel('distance')\n",
        "sch.dendrogram(\n",
        "    Z,\n",
        "    leaf_rotation=90.,  # rotates the x axis labels\n",
        "    leaf_font_size=18.,  # font size for the x axis labels\n",
        "    labels=TimeSeries.columns\n",
        ")\n",
        "plt.show()"
      ],
      "metadata": {
        "id": "z3RyI3dhO8PY",
        "colab": {
          "base_uri": "https://localhost:8080/",
          "height": 495
        },
        "outputId": "e3dac4bf-24dc-402d-c243-45d69fe2f6fd"
      },
      "execution_count": null,
      "outputs": [
        {
          "output_type": "display_data",
          "data": {
            "text/plain": [
              "<Figure size 1800x720 with 1 Axes>"
            ],
            "image/png": "[encoded data removed]"
          },
          "metadata": {}
        }
      ]
    },
    {
      "cell_type": "code",
      "source": [],
      "metadata": {
        "id": "Vfa_-9pJO8mU"
      },
      "execution_count": null,
      "outputs": []
    },
    {
      "cell_type": "code",
      "source": [],
      "metadata": {
        "id": "iPJEdATGOy-w"
      },
      "execution_count": null,
      "outputs": []
    },
    {
      "cell_type": "code",
      "source": [],
      "metadata": {
        "id": "XNu8wMHkOytY"
      },
      "execution_count": null,
      "outputs": []
    }
  ]
}